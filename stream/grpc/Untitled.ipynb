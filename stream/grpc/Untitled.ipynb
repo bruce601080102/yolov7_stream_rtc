{
 "cells": [
  {
   "cell_type": "code",
   "execution_count": 11,
   "id": "a38dac5f",
   "metadata": {
    "scrolled": true
   },
   "outputs": [
    {
     "name": "stdout",
     "output_type": "stream",
     "text": [
      "(416, 416, 3)\n",
      "416\n",
      "0.030270814895629883\n",
      "(416, 416, 3)\n",
      "416\n",
      "0.029160022735595703\n",
      "(416, 416, 3)\n",
      "416\n",
      "0.029352426528930664\n",
      "(416, 416, 3)\n",
      "416\n",
      "0.029285669326782227\n",
      "(416, 416, 3)\n",
      "416\n",
      "0.029066801071166992\n",
      "(416, 416, 3)\n",
      "416\n",
      "0.02909541130065918\n",
      "(416, 416, 3)\n",
      "416\n",
      "0.02911067008972168\n",
      "(416, 416, 3)\n",
      "416\n",
      "0.0291135311126709\n",
      "(416, 416, 3)\n",
      "416\n",
      "0.029072999954223633\n",
      "(416, 416, 3)\n",
      "416\n",
      "0.029158830642700195\n"
     ]
    }
   ],
   "source": [
    "import grpc\n",
    "import ndarray_pb2_grpc, ndarray_pb2\n",
    "import numpy as np\n",
    "import cv2\n",
    "%matplotlib inline\n",
    "import matplotlib.pyplot as plt\n",
    "import time\n",
    "\n",
    "def run():\n",
    "    conn = grpc.insecure_channel('localhost:50052')\n",
    "    client = ndarray_pb2_grpc.GrpcServiceStub(channel=conn)\n",
    "    nda = np.arange(10).astype(np.uint8)\n",
    "    nda = np.random.randint(-10,10,size=(3,3)).astype(np.uint8)\n",
    "    nda = cv2.imread(\"./00011.jpg\")\n",
    "    nda = cv2.resize(nda, (416, 416), interpolation=cv2.INTER_AREA)\n",
    "\n",
    "    wh = nda.shape\n",
    "    \n",
    "    print(wh)\n",
    "\n",
    "    arg1 = nda.tobytes()\n",
    "    arg2 = wh[0]\n",
    "    arg3 = wh[1]\n",
    "    print(arg3)\n",
    "\n",
    "    request = ndarray_pb2.Input(ndarray=arg1, width=arg2, height=arg3)\n",
    "    # request = ndarray_pb2.NDArray(ndarray=arg1)\n",
    "\n",
    "    response = client.ndarray(request)\n",
    "#     result1 = np.array(np.frombuffer(response.ndarray, dtype=np.uint8)).astype(np.uint8)\n",
    "#     result1 = np.reshape(result1, (wh[0], wh[1],3))\n",
    "\n",
    "#     plt.imshow(result1)\n",
    "#     plt.show()\n",
    "for i in range(10):\n",
    "    t1 = time.time()\n",
    "    run()\n",
    "    print(time.time()-t1)"
   ]
  },
  {
   "cell_type": "code",
   "execution_count": null,
   "id": "478475bc",
   "metadata": {},
   "outputs": [],
   "source": []
  }
 ],
 "metadata": {
  "kernelspec": {
   "display_name": "Python 3 (ipykernel)",
   "language": "python",
   "name": "python3"
  },
  "language_info": {
   "codemirror_mode": {
    "name": "ipython",
    "version": 3
   },
   "file_extension": ".py",
   "mimetype": "text/x-python",
   "name": "python",
   "nbconvert_exporter": "python",
   "pygments_lexer": "ipython3",
   "version": "3.10.6"
  }
 },
 "nbformat": 4,
 "nbformat_minor": 5
}
